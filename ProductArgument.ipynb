{
 "cells": [
  {
   "cell_type": "code",
   "execution_count": 1,
   "metadata": {},
   "outputs": [],
   "source": [
    "import time\n",
    "import math\n",
    "import sympy as sp\n",
    "import numpy as np\n",
    "from numpy.polynomial import polynomial as p\n",
    "import matplotlib.pyplot as plt\n",
    "from sage.all import *\n",
    "from sage.stats.distributions.discrete_gaussian_integer import DiscreteGaussianDistributionIntegerSampler\n",
    "from sage.stats.distributions.discrete_gaussian_polynomial import DiscreteGaussianDistributionPolynomialSampler "
   ]
  },
  {
   "cell_type": "code",
   "execution_count": 2,
   "metadata": {},
   "outputs": [],
   "source": [
    "def gaussian_sample(sigma, shape):\n",
    "    D = DiscreteGaussianDistributionIntegerSampler(sigma)\n",
    "    return np.array([D() for _ in range(np.prod(shape))]).reshape(shape)"
   ]
  },
  {
   "cell_type": "code",
   "execution_count": null,
   "metadata": {},
   "outputs": [],
   "source": []
  },
  {
   "cell_type": "markdown",
   "metadata": {},
   "source": [
    "### Class thar runs and controls the protocol flow"
   ]
  },
  {
   "cell_type": "code",
   "execution_count": 3,
   "metadata": {},
   "outputs": [],
   "source": [
    "class ProductArgument(object):\n",
    "    \n",
    "    #Parameters: security level lambda, prime p and N triples ai, bi, ci \n",
    "    #such that ai*bi = ci (flatA = [a1, a2, ..., aN])\n",
    "    \n",
    "    lamb = None\n",
    "    p = None\n",
    "    flatA = None\n",
    "    flatB = None\n",
    "    flatC = None\n",
    "    \n",
    "    \n",
    "    def __init__(self, lamb, p, flatA, flatB, flatC):\n",
    "        self.lamb = lamb\n",
    "        self.p = p\n",
    "        self.flatA = flatA\n",
    "        self.flatB = flatB\n",
    "        self.flatC = flatC\n",
    "        \n",
    "    \n",
    "    def run(self):\n",
    "        assert self.flatA.size == self.flatB.size == self.flatC.size\n",
    "        N = self.flatA.size\n",
    "        \n",
    "        #Generates the commitment scheme for N values in Zp with security\n",
    "        #lambda. This defines n, k, m, q ... (?)\n",
    "        cs = CommitmentScheme(self.lamb, self.p, N)\n",
    "        ck = cs.gen()\n",
    "        \n",
    "        #TO-DO: Reshape A,B,C into m matrices kxn, according to cs\n",
    "        \n",
    "        #Create prover\n",
    "        prover = ProductArgumentProver(self.lamb, self.p, Ai, Bi, Ci, ck)\n",
    "        \n",
    "        #Create verifier\n",
    "        verifier = ProductArgumentVerifier()\n",
    "        \n",
    "        #Start protocol\n",
    "        start_time = time.time()\n",
    "        \n",
    "        prover.commit_witness()\n",
    "        \n",
    "        bfy = verifier.generate_challenge()\n",
    "        \n",
    "        prover.generate_polynomials(bfy)\n",
    "        \n",
    "        prover.commit_polynomial()\n",
    "        \n",
    "        bfx = verifier.generate_challenge()\n",
    "        \n",
    "        prover.evaluate_polynomials(bfx, bfy)\n",
    "        \n",
    "    "
   ]
  },
  {
   "cell_type": "code",
   "execution_count": 24,
   "metadata": {},
   "outputs": [],
   "source": [
    "class ProductArgumentProver(object):\n",
    "    lamb = None\n",
    "    ck = None\n",
    "    Ai = None\n",
    "    Bi = None\n",
    "    Ci = None\n",
    "    k = None\n",
    "    m = None\n",
    "    n = None\n",
    "    N = None\n",
    "    p = None\n",
    "    q = None\n",
    "    np = None\n",
    "    sigma1 = None\n",
    "    sigma2 = None\n",
    "    sigma3 = None\n",
    "    sigma4 = None\n",
    "    \n",
    "    \n",
    "    def __init__(self, lamb, p, Ai, Bi, Ci, ck):\n",
    "        \n",
    "        assert Ai.shape == Bi.shape == Ci.shape\n",
    "        \n",
    "        self.Ai = Ai\n",
    "        self.Bi = Bi\n",
    "        self.Ci = Ci\n",
    "        self.m = Ai.shape[0]\n",
    "        self.k = Ai.shape[1]\n",
    "        self.n = Ai.shape[2]\n",
    "        \n",
    "        self.ck = ck\n",
    "        self.p = ck[0]\n",
    "        self.q = ck[1]\n",
    "        #self.np =  1 \n",
    "        \n",
    "        self.sigma1 = 48*math.sqrt(self.k*self.n)*self.k*self.m*self.p**2\n",
    "        self.sigma2 = 72*math.sqrt(2*self.k*self.n)*self.k*self.m*self.p\n",
    "        self.sigma3 = 24*math.sqrt(2*self.k*self.n)*self.k*self.p*(1+6*self.k*self.m*self.p)\n",
    "        self.sigma4 = 24*math.sqrt(2)*self.k**2*self.p*self.n*self.sigma2\n",
    "    \n",
    "    def commit_witness(self):\n",
    "        self.Aizeros = np.vstack((self.Ai, np.zeros_like(Ai)))\n",
    "        self.Bizeros = np.vstack((self.Bi, np.zeros_like(Bi)))\n",
    "        self.CiCpi = Aizeros * Bizeros % self.p\n",
    "        #This should be done in a suitable basis of GF(p^{2k}) (???)\n",
    "        \n",
    "        self.A0 = gaussian_sample(self.sigma1, (2*self.k, self.n))\n",
    "        self.Bmm1 = gaussian_sample(self.sigma1, (2*self.k, self.n))\n",
    "        \n",
    "        self.alphai = np.random.randint(0, self.p, [self.m, self.k, self.np])\n",
    "        self.betai = np.random.randint(0, self.p, [self.m, self.k, self.np])\n",
    "        self.gammai = np.random.randint(0, self.p, [self.m, 2*self.k, self.np])\n",
    "\n",
    "        self.alpha0 = gaussian_sample(self.sigma1, (2*self.k, self.np))\n",
    "        self.betamm1 = gaussian_sample(self.sigma1, (2*self.k, self.np))\n",
    "        \n",
    "        self.bfAi = com_msg(Aizeros, np.vstack((alphai, np.zeros_like(alphai))))\n",
    "        self.bfBi = com_msg(Bizeros, np.vstack((betai, np.zeros_like(betai))))\n",
    "        self.bfCi = com_msg(CiCpi, gammai)\n",
    "        \n",
    "        self.bfA0 = com_msg(A0, alpha0)\n",
    "        self.bfBmm1 = com_msg(Bmm1, betamm1)\n",
    "        \n",
    "        return bfAi, bfBi, bfCi, bfA0, bfBmm1\n",
    "        \n",
    "        \n",
    "    def compute_polynomials(self, bfy):\n",
    "        Mbfy = np.diag(bfy) #Matrix that emulates left product by bfy in GF(p^{2k}) (???)\n",
    "        powered_Mbfy = Mbfy #On iteration i this will be Mbfy to the (i+1)-th power\n",
    "        self.AX = self.A0\n",
    "        \n",
    "        #Compute polynomial A(X) = A0 + Aizeros[0]*y*X + Aizeros[1]*y²*X² + ... + Aizeros[m-1]*y^m*X^m\n",
    "        for i in range(self.m):\n",
    "            np.append(AX, powered_Mbfy @ self.Aizeros[i])\n",
    "            powered_Mbfy = powered_Mbfy @ Mbfy % self.p\n",
    "        \n",
    "        #Compute polynomial B(X) = B_(m+1) + Bizeros[m-1]*X + Bizeros[m-2]*X² + ... + Bizeros[0]*X^m\n",
    "        self.BX = np.append(self.Bmm1, np.flip(self.Bizeros, 0))    \n",
    "         \n",
    "        #Calculate value of C = CiCpi[0]*y + CiCpi[1]*y² + CiCpi[2]*y³ + ... + CiCpi[m-1]*y^m\n",
    "        self.C = polyeval(self.CiCpi, Mbfy) % self.p #polyeval is in Utilities.ipynb\n",
    "        \n",
    "        self.Hl = (self.AX @ self.BX) % self.p #The (m+1) coefficient of Hl is C \n",
    "        \n",
    "    \n",
    "    def commit_polynomial(self):\n",
    "        etal = np.random.randint(0, self.p, [2*self.m, 2*self.k, self.np])\n",
    "        self.bfHl = com_msg(Hl[:self.m+1], etal[:self.m+1])\n",
    "        np.append(self.bfHl, com_msg(Hl[self.m+2:], etal[self.m+1:])) \n",
    "    \n",
    "    \n",
    "    def evaluate_polynomials(self, bfx, bfy):\n",
    "        Mbfx = np.diag(bfx) #Matrix that emulates left product by bfx in GF(p^{2k}) (???)\n",
    "        Mbfy = np.diag(bfy) #Matrix that emulates left product by bfy in GF(p^{2k}) (???)\n",
    "        powered_Mbfy = Mbfy #On iteration i this will be Mbfy to the (i+1)-th power\n",
    "        \n",
    "        self.A = self.A0\n",
    "        self.alpha = self.alpha_0\n",
    "        #Calculate value A = A0 + Aizeros[0]*y*x + Aizeros[1]*y²*x² + ... + Aizeros[m-1]*y^m*x^m\n",
    "        for i in range(self.m):\n",
    "            Mxy = powered_Mbfx @ powered_Mbfy % self.p\n",
    "            self.A += Mxy @ self.Aizeros[i]\n",
    "            self.alpha += Mxy @ np.vstack((alphai, np.zeros_like(alphai)))\n",
    "            powered_Mbfy = powered_Mbfy @ Mbfy\n",
    "            powered_Mbfx = powered_Mbfx @ Mbfx\n",
    "            \n",
    "        self.B = polyeval(self.BX, Mbfx)\n",
    "        self.beta = self.betamm1 + polyeval(np.flip(np.vstack((self.betai, np.zeros_like(self.betai))), 0), Mbfx)\n",
    "        \n",
    "        #Check: A(X) = A mod p, B(X) = B mod p"
   ]
  },
  {
   "cell_type": "code",
   "execution_count": 5,
   "metadata": {},
   "outputs": [],
   "source": [
    "class ProductArgumentVerifier(object):\n",
    "    lamb = None\n",
    "    ck = None\n",
    "    calB = None\n",
    "    k = None\n",
    "    m = None\n",
    "    n = None\n",
    "    N = None\n",
    "    p = None\n",
    "    q = None\n",
    "    np = None\n",
    "    \n",
    "    def __init__(self, lamb, p, m, k, n, ck):\n",
    "        \n",
    "        self.sigma1 = 48*math.sqrt(self.k*self.n)*self.k*self.m*self.p**2\n",
    "        self.sigma2 = 72*math.sqrt(2*self.k*self.n)*self.k*self.m*self.p\n",
    "        self.sigma3 = 24*math.sqrt(2*self.k*self.n)*self.k*self.p*(1+6*self.k*self.m*self.p)\n",
    "        self.sigma4 = 24*math.sqrt(2)*self.k**2*self.p*self.n*self.sigma2\n",
    "    \n",
    "    \n",
    "    # Generate challenges bf y, bf x and bf z \n",
    "    def generate_challenge(self):\n",
    "        c = np.random.randint(0, self.p, 2*self.k)\n",
    "        return c\n",
    "    \n",
    "    "
   ]
  },
  {
   "cell_type": "code",
   "execution_count": 6,
   "metadata": {},
   "outputs": [],
   "source": [
    "def productArgument_test():\n",
    "    \n",
    "    lamb = 64\n",
    "    p = 5\n",
    "    N = 20\n",
    "    n = 2\n",
    "    k = 2\n",
    "    m = 1\n",
    "    \n",
    "    flatA = np.random.randint(0, p, size = N)\n",
    "    flatB = np.random.randint(0, p, size = N)\n",
    "    flatC = flatA * flatB % p #Hadamard product\n",
    "    \n",
    "    print(flatA)\n",
    "    print(flatB)\n",
    "    print(flatC)\n",
    "    \n",
    "    argument = ProductArgument(lamb, p, flatA, flatB, flatC)\n",
    "    argument.run()\n",
    "    \n",
    "#productArgument_test()"
   ]
  },
  {
   "cell_type": "code",
   "execution_count": 7,
   "metadata": {},
   "outputs": [],
   "source": [
    "p = 7\n",
    "n = 2\n",
    "k = 2\n",
    "m = 2\n",
    "    \n",
    "Ai = np.random.randint(0, p, size = [m, k, n])"
   ]
  },
  {
   "cell_type": "code",
   "execution_count": null,
   "metadata": {},
   "outputs": [],
   "source": []
  },
  {
   "cell_type": "code",
   "execution_count": 8,
   "metadata": {},
   "outputs": [
    {
     "data": {
      "text/plain": [
       "(array([[2, 2, 3, 3, 1, 2, 4, 4, 4, 4],\n",
       "        [1, 3, 1, 2, 3, 1, 1, 3, 2, 2],\n",
       "        [2, 1, 4, 2, 4, 4, 3, 1, 2, 4],\n",
       "        [1, 4, 3, 1, 4, 4, 4, 3, 1, 4],\n",
       "        [4, 1, 1, 2, 2, 2, 2, 1, 4, 4]]),\n",
       " array([2, 2, 2, 3, 2, 1, 1, 1, 3, 1]),\n",
       " array([51, 35, 46, 45, 43]))"
      ]
     },
     "execution_count": 8,
     "metadata": {},
     "output_type": "execute_result"
    }
   ],
   "source": [
    "A = np.random.randint(1, 5, [5,10])\n",
    "x = np.random.randint(1, 5, 10)\n",
    "A, x, A@x"
   ]
  },
  {
   "cell_type": "code",
   "execution_count": 15,
   "metadata": {},
   "outputs": [
    {
     "data": {
      "text/plain": [
       "array([[16,  0,  0,  0,  0,  0,  0,  0,  0,  0],\n",
       "       [ 0,  4,  0,  0,  0,  0,  0,  0,  0,  0],\n",
       "       [ 0,  0,  4,  0,  0,  0,  0,  0,  0,  0],\n",
       "       [ 0,  0,  0, 16,  0,  0,  0,  0,  0,  0],\n",
       "       [ 0,  0,  0,  0,  4,  0,  0,  0,  0,  0],\n",
       "       [ 0,  0,  0,  0,  0,  1,  0,  0,  0,  0],\n",
       "       [ 0,  0,  0,  0,  0,  0,  9,  0,  0,  0],\n",
       "       [ 0,  0,  0,  0,  0,  0,  0,  9,  0,  0],\n",
       "       [ 0,  0,  0,  0,  0,  0,  0,  0, 16,  0],\n",
       "       [ 0,  0,  0,  0,  0,  0,  0,  0,  0,  1]])"
      ]
     },
     "execution_count": 15,
     "metadata": {},
     "output_type": "execute_result"
    }
   ],
   "source": [
    "bfy = np.random.randint(1, 5, 10)\n",
    "np.diag(bfy)"
   ]
  },
  {
   "cell_type": "code",
   "execution_count": 17,
   "metadata": {},
   "outputs": [
    {
     "data": {
      "text/plain": [
       "array([1, 2])"
      ]
     },
     "execution_count": 17,
     "metadata": {},
     "output_type": "execute_result"
    }
   ],
   "source": [
    "np.append(1, 2)"
   ]
  },
  {
   "cell_type": "code",
   "execution_count": 25,
   "metadata": {},
   "outputs": [
    {
     "data": {
      "text/plain": [
       "(array([[3, 2],\n",
       "        [3, 3]]), array([[1, 3],\n",
       "        [4, 3]]), array([[4, 4],\n",
       "        [4, 4]]))"
      ]
     },
     "execution_count": 25,
     "metadata": {},
     "output_type": "execute_result"
    }
   ],
   "source": [
    "A = np.random.randint(1, 5, [ 2, 2])\n",
    "B = np.random.randint(1, 5, [ 2, 2])\n",
    "C = np.random.randint(1, 5, [ 2, 2])\n",
    "A, B, C"
   ]
  },
  {
   "cell_type": "code",
   "execution_count": 26,
   "metadata": {},
   "outputs": [
    {
     "data": {
      "text/plain": [
       "array([[104, 104],\n",
       "       [132, 132]])"
      ]
     },
     "execution_count": 26,
     "metadata": {},
     "output_type": "execute_result"
    }
   ],
   "source": [
    "A@B@C"
   ]
  },
  {
   "cell_type": "code",
   "execution_count": null,
   "metadata": {},
   "outputs": [],
   "source": []
  }
 ],
 "metadata": {
  "kernelspec": {
   "display_name": "Python 3",
   "language": "python",
   "name": "python3"
  },
  "language_info": {
   "codemirror_mode": {
    "name": "ipython",
    "version": 3
   },
   "file_extension": ".py",
   "mimetype": "text/x-python",
   "name": "python",
   "nbconvert_exporter": "python",
   "pygments_lexer": "ipython3",
   "version": "3.7.3"
  }
 },
 "nbformat": 4,
 "nbformat_minor": 2
}

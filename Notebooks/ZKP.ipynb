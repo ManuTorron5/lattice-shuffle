{
 "cells": [
  {
   "cell_type": "code",
   "execution_count": 3,
   "metadata": {},
   "outputs": [],
   "source": [
    "import time\n",
    "import math\n",
    "import sympy as sp\n",
    "import numpy as np\n",
    "from numpy.polynomial import polynomial as p\n",
    "import matplotlib.pyplot as plt\n",
    "from sage.all import *"
   ]
  },
  {
   "cell_type": "code",
   "execution_count": 4,
   "metadata": {},
   "outputs": [],
   "source": [
    "from sage.stats.distributions.discrete_gaussian_integer import DiscreteGaussianDistributionIntegerSampler\n",
    "from sage.stats.distributions.discrete_gaussian_polynomial import DiscreteGaussianDistributionPolynomialSampler "
   ]
  },
  {
   "cell_type": "code",
   "execution_count": 5,
   "metadata": {},
   "outputs": [],
   "source": [
    "# Rejection sampling algorithm \n",
    "# If parameters chosen as BBC+18, output is 1 with probability 1/rho\n",
    "\n",
    "def Rej(Z, B, sigma, rho):\n",
    "    u = np.random.random()\n",
    "    if u > 1/rho * np.exp((-2*Z.flatten().dot(B.flatten()) + np.linalg.norm(B.flatten())**2)/(2*sigma**2)):\n",
    "        return 0\n",
    "    else:\n",
    "        return 1"
   ]
  },
  {
   "cell_type": "code",
   "execution_count": 6,
   "metadata": {},
   "outputs": [],
   "source": [
    "#Balance algorithm\n",
    "#Given a matrix x with coeffs in [0, q], returns the same matrix with coeffs in [-(q-1)/2, (q-1)/2]\n",
    "def balance(x, q):\n",
    "    return np.array([n if n <= (q-1)/2 else n-q for n in x.flatten()]).reshape(np.shape(x))"
   ]
  },
  {
   "cell_type": "code",
   "execution_count": 7,
   "metadata": {},
   "outputs": [],
   "source": [
    "class Prover:\n",
    "    \n",
    "    A = None\n",
    "    S = None\n",
    "    T = None\n",
    "    sigma = None\n",
    "    Y = None\n",
    "     \n",
    "    def __init__(self, lamb, q, A, S, T):\n",
    "        self.q = q\n",
    "        self.A = A\n",
    "        self.S = S\n",
    "        self.T = T\n",
    "        self.Y = []\n",
    "        \n",
    "        s = np.linalg.norm(S, 2) + 1  # Upper bound on s_1(S)\n",
    "        \n",
    "        self.l = S.shape[1]\n",
    "        self.n = lamb + 2\n",
    "        assert A.shape[1] == S.shape[0]\n",
    "        self.v = A.shape[1]\n",
    "        \n",
    "        self.rho = 3\n",
    "        self.sigma = 12/np.log(self.rho)*s*np.sqrt(self.l*self.n)\n",
    "        self.B = math.sqrt(2*self.v)*self.sigma  # This is somehow known by the verifier\n",
    " \n",
    "        # print(\"s = \" + str(s))\n",
    "        # print(\"sigma = \" + str(self.sigma))\n",
    "        # print(\"B = \" + str(self.B))\n",
    "        \n",
    "    \n",
    "    def calculateW(self, n):\n",
    "        D = DiscreteGaussianDistributionIntegerSampler(self.sigma)\n",
    "        self.Y = np.array([D() for _ in range(self.v*self.n)]).reshape(self.v,self.n)\n",
    "        W = np.matmul(self.A, self.Y)\n",
    "        return W\n",
    "    \n",
    "    def calculateZ(self, C):\n",
    "        self.C = C\n",
    "        self.Z = np.matmul(self.S, self.C) + self.Y\n",
    "        return self.Z\n",
    "    \n",
    "    def reject(self):\n",
    "        def Rej(Z, B, sigma, rho):\n",
    "            u = np.random.random()\n",
    "            if u > 1/rho * np.exp((-2*Z.flatten().dot(B.flatten()) + np.linalg.norm(B.flatten())**2)/(2*sigma**2)):\n",
    "                return 0\n",
    "            else:\n",
    "                return 1\n",
    "        return Rej(self.Z, self.S@self.C, self.sigma, self.rho)"
   ]
  },
  {
   "cell_type": "code",
   "execution_count": 8,
   "metadata": {},
   "outputs": [],
   "source": [
    "class Verifier:\n",
    "    \n",
    "    A = None\n",
    "    T = None\n",
    "    W = None\n",
    "    C = None\n",
    "    \n",
    "    def __init__(self, A, T):\n",
    "        self.A = A\n",
    "        self.T = T\n",
    "        self.W = []\n",
    "        self.C = []\n",
    "        \n",
    "    def calculateC(self, W):\n",
    "        self.W = W\n",
    "        n = W.shape[1]\n",
    "        l = self.T.shape[1]\n",
    "        self.C = np.random.randint(2, size=[l,n])\n",
    "        return self.C\n",
    "    \n",
    "    def verify(self, Z, B, q):\n",
    "        AZ = self.A @ Z\n",
    "        TC = self.T @ self.C\n",
    "        return np.array_equal(AZ % q, (TC + self.W) % q) and np.all(np.linalg.norm(Z, np.inf, axis=0) <= B)\n",
    "        "
   ]
  },
  {
   "cell_type": "code",
   "execution_count": 9,
   "metadata": {},
   "outputs": [],
   "source": [
    "class Proof:\n",
    "    \n",
    "    prover = None\n",
    "    verifier = None\n",
    "    \n",
    "    W = None\n",
    "    C = None\n",
    "    Z = None\n",
    "    \n",
    "    bit = None\n",
    "    num_aborts = None\n",
    "    running_time = None\n",
    "    proof_size = None\n",
    "    \n",
    "    \n",
    "    def __init__(self, lamb, q, A, S, T):\n",
    "        self.prover = Prover(lamb, q, A, S, T)\n",
    "        self.verifier = Verifier(A, T)\n",
    "\n",
    "    def run(self):\n",
    "        abort = True\n",
    "        self.num_aborts = 0\n",
    "\n",
    "        # Protocol starts\n",
    "\n",
    "        start_time = time.time()\n",
    "\n",
    "        self.proof_size = 0\n",
    "\n",
    "        self.W = self.prover.calculateW(self.prover.n)\n",
    "        \n",
    "        self.proof_size += self.W.nbytes\n",
    "\n",
    "        while abort:\n",
    "\n",
    "            self.C = self.verifier.calculateC(self.W)\n",
    "\n",
    "            self.Z = self.prover.calculateZ(self.C)\n",
    "\n",
    "            self.proof_size += self.Z.nbytes #  + self.C.nbytes\n",
    "\n",
    "            #Rejection sampling\n",
    "\n",
    "            abort = self.prover.reject()\n",
    "            self.num_aborts += abort\n",
    "\n",
    "        #Verification\n",
    "\n",
    "        B = self.prover.B  # ???\n",
    "\n",
    "        self.bit = self.verifier.verify(self.Z, B, self.prover.q)\n",
    "\n",
    "        end_time = time.time()\n",
    "        \n",
    "        self.running_time = end_time - start_time\n",
    "        \n",
    "        return self.bit\n",
    "        \n",
    "    def print_stats(self):\n",
    "\n",
    "        print(\"Verification: \" +  str(self.bit))\n",
    "        print(\"Times aborted: \" + str(self.num_aborts))\n",
    "        print(\"Total execution time: \" + str(self.running_time) + \" seconds\")\n",
    "        print(\"Size of the witness: \" + str(self.prover.S.nbytes / 1000) + \" kB\")\n",
    "        print(\"Size of the proof: \" + str(self.proof_size / 1000) + \" kB\")\n"
   ]
  },
  {
   "cell_type": "code",
   "execution_count": 11,
   "metadata": {},
   "outputs": [
    {
     "name": "stdout",
     "output_type": "stream",
     "text": [
      "Verification: True\n",
      "Times aborted: 1\n",
      "Total execution time: 0.07257461547851562 seconds\n",
      "Size of the witness: 20.328 kB\n",
      "Size of the proof: 487.76 kB\n"
     ]
    }
   ],
   "source": [
    "def ZKP_test():\n",
    "    \n",
    "    lamb = 128 # Security parameter lambda\n",
    "    q = sp.nextprime(4099)  # Prime for base field Z_q\n",
    "\n",
    "    ############# Invent matrices A, S, T ###################\n",
    "    l = 11 #Number of equations\n",
    "    r = 7 #poly(lambda)\n",
    "    v = 231 #poly(lambda)  # Parameters r, v and l should be chosen by the commitment scheme given N = l*r*v\n",
    "\n",
    "    A = np.random.randint(0, q, size=[r, v])\n",
    "    S = np.random.randint(-1, 2, size=[v, l])\n",
    "    T = (A @ S) % q\n",
    "\n",
    "    #########################################################\n",
    "    \n",
    "    # print(A)\n",
    "    # print(S)\n",
    "    # print(T)\n",
    "\n",
    "    proof = Proof(lamb, q, A, S, T)\n",
    "    proof.run()\n",
    "    proof.print_stats()\n",
    "\n",
    "ZKP_test()"
   ]
  },
  {
   "cell_type": "code",
   "execution_count": null,
   "metadata": {},
   "outputs": [],
   "source": []
  },
  {
   "cell_type": "code",
   "execution_count": 166,
   "metadata": {},
   "outputs": [
    {
     "name": "stdout",
     "output_type": "stream",
     "text": [
      "Should abort 33.333333333333336% of the time\n"
     ]
    },
    {
     "name": "stderr",
     "output_type": "stream",
     "text": [
      "/home/mak/Downloads/SageMath/local/lib/python3.7/site-packages/ipykernel_launcher.py:6: RuntimeWarning: overflow encountered in long_scalars\n",
      "  \n"
     ]
    },
    {
     "name": "stdout",
     "output_type": "stream",
     "text": [
      "Aborted 32.445% of the time\n"
     ]
    }
   ],
   "source": [
    "def rejSamplingTest():\n",
    "    res = 0\n",
    "    r = 10\n",
    "    n = 10\n",
    "    rho = 3\n",
    "    times = 20000\n",
    "    print(\"Should abort \" + str(100/rho) + \"% of the time\")\n",
    "    for _ in range (times):\n",
    "        B = np.random.randint(0, 2**32, size = [r,n])\n",
    "        sigma = 12/math.log(rho) * np.linalg.norm(B,2)\n",
    "        D = DiscreteGaussianDistributionIntegerSampler(sigma)\n",
    "        Y = np.array([D() for _ in range(r*n)]).reshape(r,n)\n",
    "        res += Rej(Y+B, B, sigma, rho)\n",
    "    print(\"Aborted \" + str(100*res/times) + \"% of the time\")\n",
    "    \n",
    "rejSamplingTest()"
   ]
  },
  {
   "cell_type": "code",
   "execution_count": null,
   "metadata": {},
   "outputs": [],
   "source": []
  },
  {
   "cell_type": "code",
   "execution_count": 25,
   "metadata": {},
   "outputs": [],
   "source": []
  },
  {
   "cell_type": "code",
   "execution_count": null,
   "metadata": {},
   "outputs": [],
   "source": []
  },
  {
   "cell_type": "code",
   "execution_count": null,
   "metadata": {},
   "outputs": [],
   "source": []
  },
  {
   "cell_type": "code",
   "execution_count": null,
   "metadata": {},
   "outputs": [],
   "source": []
  },
  {
   "cell_type": "code",
   "execution_count": null,
   "metadata": {},
   "outputs": [],
   "source": []
  },
  {
   "cell_type": "code",
   "execution_count": null,
   "metadata": {},
   "outputs": [],
   "source": []
  },
  {
   "cell_type": "code",
   "execution_count": null,
   "metadata": {},
   "outputs": [],
   "source": []
  },
  {
   "cell_type": "code",
   "execution_count": null,
   "metadata": {},
   "outputs": [],
   "source": []
  },
  {
   "cell_type": "code",
   "execution_count": null,
   "metadata": {},
   "outputs": [],
   "source": []
  },
  {
   "cell_type": "code",
   "execution_count": null,
   "metadata": {},
   "outputs": [],
   "source": []
  },
  {
   "cell_type": "code",
   "execution_count": null,
   "metadata": {},
   "outputs": [],
   "source": []
  },
  {
   "cell_type": "code",
   "execution_count": null,
   "metadata": {},
   "outputs": [],
   "source": []
  }
 ],
 "metadata": {
  "kernelspec": {
   "display_name": "Python 3",
   "language": "python",
   "name": "python3"
  },
  "language_info": {
   "codemirror_mode": {
    "name": "ipython",
    "version": 3
   },
   "file_extension": ".py",
   "mimetype": "text/x-python",
   "name": "python",
   "nbconvert_exporter": "python",
   "pygments_lexer": "ipython3",
   "version": "3.7.3"
  }
 },
 "nbformat": 4,
 "nbformat_minor": 4
}

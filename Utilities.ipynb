{
 "cells": [
  {
   "cell_type": "code",
   "execution_count": 75,
   "metadata": {},
   "outputs": [],
   "source": [
    "import sympy as sp\n",
    "import numpy as np\n",
    "import time\n",
    "from numpy.polynomial import polynomial as p\n",
    "import matplotlib.pyplot as plt\n",
    "from sage.all import *\n",
    "from sage.stats.distributions.discrete_gaussian_polynomial import DiscreteGaussianDistributionPolynomialSampler\n",
    "import itertools as it"
   ]
  },
  {
   "cell_type": "code",
   "execution_count": 3,
   "metadata": {},
   "outputs": [],
   "source": [
    " "
   ]
  },
  {
   "cell_type": "code",
   "execution_count": 4,
   "metadata": {},
   "outputs": [],
   "source": [
    "class RLWE:\n",
    "    \n",
    "    #Parameters n and q\n",
    "    degree = None\n",
    "    modulus = None\n",
    "\n",
    "    \n",
    "    def __init__(self, degree = 512, modulus = 4099):\n",
    "        self.degree = degree\n",
    "        self.modulus = modulus\n",
    "        \n",
    "    def polyadd(self, p1, p2):\n",
    "        return np.int64(np.array(np.polyadd(p1, p2)) % self.modulus)\n",
    "    \n",
    "    def get_mult_matrix(a, modulus):\n",
    "        n = len(a)\n",
    "        A = np.array([a]).T\n",
    "        for _ in range(n-1):\n",
    "            a = np.append(-a[-1], a[:-1])\n",
    "            A = np.concatenate((A, np.array([a]).T), axis=1) % modulus\n",
    "        return A\n",
    "    \n",
    "    def polymul(self, p1, p2):\n",
    "        p1 = np.pad(p1, (0, self.degree - len(p1)), 'constant')\n",
    "        p2 = np.pad(p2, (0, self.degree - len(p2)), 'constant')\n",
    "        return np.int64(np.array(np.matmul(get_mult_matrix(p1, self.modulus), p2) % self.modulus))\n",
    "    \n",
    "    def polydot(self, v1, v2):\n",
    "        assert len(v1) == len(v2)\n",
    "        res = [0]*self.degree\n",
    "        for i in range(len(v1)):\n",
    "            res = self.polyadd(res, self.polymul(v1[i], v2[i]))\n",
    "        return res\n",
    "    \n",
    "    def polymatvectormul(self, A, b):\n",
    "        assert np.shape(A)[1] == np.shape(b)[0]\n",
    "        return np.int64(np.array([self.polydot(a, b) for a in A]))\n",
    "        \n",
    "    def polymatmul(self, A, B):\n",
    "        assert np.shape(A)[1] == np.shape(B)[0]\n",
    "        res = [self.polymatvectormul(A, B[:, 0])]\n",
    "        for i in range (np.shape(B)[1]-1):\n",
    "            print(res)\n",
    "            res = np.vstack((res, [self.polymatvectormul(A, B[:, i+1])]))\n",
    "        print(res)\n",
    "        return res\n",
    "    \n",
    "    \n",
    "    def norm(self, p1, aux = 2):\n",
    "        return np.linalg.norm(p1, aux)\n",
    "\n",
    "    "
   ]
  },
  {
   "cell_type": "code",
   "execution_count": 5,
   "metadata": {},
   "outputs": [],
   "source": [
    "rlwe = RLWE(2**2, 7)"
   ]
  },
  {
   "cell_type": "code",
   "execution_count": 6,
   "metadata": {
    "scrolled": true
   },
   "outputs": [
    {
     "data": {
      "text/plain": [
       "array([2, 5, 0, 4])"
      ]
     },
     "execution_count": 6,
     "metadata": {},
     "output_type": "execute_result"
    }
   ],
   "source": [
    "p = [[4, 1, 0, 6], [0, 2, 4, 2]]\n",
    "q = [[3, 5, 2, 6], [2, 0, 6, 3]]\n",
    "rlwe.polydot(p, q)"
   ]
  },
  {
   "cell_type": "code",
   "execution_count": 7,
   "metadata": {},
   "outputs": [
    {
     "data": {
      "text/plain": [
       "array([[2, 5, 0, 4],\n",
       "       [3, 0, 5, 1]])"
      ]
     },
     "execution_count": 7,
     "metadata": {},
     "output_type": "execute_result"
    }
   ],
   "source": [
    "P = [[[4, 1, 0, 6], [0, 2, 4, 2]],\n",
    "    [[0, 5, 1, 5], [2, 2, 6, 1]]]\n",
    "b = [[3, 5, 2, 6], [2, 0, 6, 3]]\n",
    "rlwe.polymatvectormul(P, b)"
   ]
  },
  {
   "cell_type": "code",
   "execution_count": 8,
   "metadata": {},
   "outputs": [
    {
     "data": {
      "text/plain": [
       "array([[[1, 2, 3],\n",
       "        [1, 4, 2]],\n",
       "\n",
       "       [[1, 2, 3],\n",
       "        [1, 2, 5]],\n",
       "\n",
       "       [[1, 2, 3],\n",
       "        [1, 4, 2]]])"
      ]
     },
     "execution_count": 8,
     "metadata": {},
     "output_type": "execute_result"
    }
   ],
   "source": [
    "A = np.array([[[1,2,3],[4,5,6]],\n",
    "    [[1,2,5],[1,4,2]]])\n",
    "B = np.array([[[1,2,3],[1,2,3],[1,2,3]],\n",
    "    [[1,4,2],[1,2,5],[1,4,2]]])\n",
    "np.vstack(([B[:, 0]], [B[:, 1]], [B[:, 2]]))"
   ]
  },
  {
   "cell_type": "code",
   "execution_count": 9,
   "metadata": {},
   "outputs": [
    {
     "name": "stdout",
     "output_type": "stream",
     "text": [
      "[array([[5, 4, 2, 4],\n",
      "       [4, 5, 4, 4]])]\n",
      "[[[5 4 2 4]\n",
      "  [4 5 4 4]]\n",
      "\n",
      " [[1 3 4 0]\n",
      "  [5 3 6 5]]]\n",
      "[[[5 4 2 4]\n",
      "  [4 5 4 4]]\n",
      "\n",
      " [[1 3 4 0]\n",
      "  [5 3 6 5]]\n",
      "\n",
      " [[5 4 2 4]\n",
      "  [4 5 4 4]]]\n"
     ]
    },
    {
     "data": {
      "text/plain": [
       "array([[[5, 4, 2, 4],\n",
       "        [4, 5, 4, 4]],\n",
       "\n",
       "       [[1, 3, 4, 0],\n",
       "        [5, 3, 6, 5]],\n",
       "\n",
       "       [[5, 4, 2, 4],\n",
       "        [4, 5, 4, 4]]])"
      ]
     },
     "execution_count": 9,
     "metadata": {},
     "output_type": "execute_result"
    }
   ],
   "source": [
    "rlwe.polymatmul(A, B)"
   ]
  },
  {
   "cell_type": "code",
   "execution_count": null,
   "metadata": {},
   "outputs": [],
   "source": []
  },
  {
   "cell_type": "code",
   "execution_count": null,
   "metadata": {},
   "outputs": [],
   "source": []
  },
  {
   "cell_type": "code",
   "execution_count": null,
   "metadata": {},
   "outputs": [],
   "source": []
  },
  {
   "cell_type": "code",
   "execution_count": null,
   "metadata": {},
   "outputs": [],
   "source": []
  },
  {
   "cell_type": "code",
   "execution_count": null,
   "metadata": {},
   "outputs": [],
   "source": []
  },
  {
   "cell_type": "code",
   "execution_count": null,
   "metadata": {},
   "outputs": [],
   "source": []
  },
  {
   "cell_type": "code",
   "execution_count": null,
   "metadata": {},
   "outputs": [],
   "source": []
  },
  {
   "cell_type": "code",
   "execution_count": null,
   "metadata": {},
   "outputs": [],
   "source": []
  },
  {
   "cell_type": "code",
   "execution_count": null,
   "metadata": {},
   "outputs": [],
   "source": []
  },
  {
   "cell_type": "code",
   "execution_count": 2,
   "metadata": {},
   "outputs": [
    {
     "data": {
      "text/plain": [
       "Univariate Quotient Polynomial Ring in x over Ring of integers modulo 7 with modulus y^4 + 1"
      ]
     },
     "execution_count": 2,
     "metadata": {},
     "output_type": "execute_result"
    }
   ],
   "source": [
    "n = 4\n",
    "q = 7\n",
    "P, y = PolynomialRing(IntegerModRing(q), 'y').objgen()\n",
    "Rq = P.quotient(y**n + 1, 'x')\n",
    "Rq"
   ]
  },
  {
   "cell_type": "code",
   "execution_count": 3,
   "metadata": {},
   "outputs": [
    {
     "data": {
      "text/plain": [
       "array([[2*x^3 + 4*x^2 + 3, 5*x^3 + x],\n",
       "       [4*x^3 + 2*x^2 + 4*x + 2, 5*x^3]], dtype=object)"
      ]
     },
     "execution_count": 3,
     "metadata": {},
     "output_type": "execute_result"
    }
   ],
   "source": [
    "A = np.array([Rq.random_element() for _ in range(4)]).reshape(2,2)\n",
    "A"
   ]
  },
  {
   "cell_type": "code",
   "execution_count": 4,
   "metadata": {},
   "outputs": [
    {
     "data": {
      "text/plain": [
       "array([4*x^3 + 6*x^2 + 3, x^3 + x + 3], dtype=object)"
      ]
     },
     "execution_count": 4,
     "metadata": {},
     "output_type": "execute_result"
    }
   ],
   "source": [
    "B = np.array([Rq.random_element() for _ in range(2)])\n",
    "B"
   ]
  },
  {
   "cell_type": "code",
   "execution_count": 13,
   "metadata": {},
   "outputs": [
    {
     "data": {
      "text/plain": [
       "array([5*x^3 + 4*x^2 + 5*x + 1, 6*x^3 + 2*x^2 + 5*x + 6], dtype=object)"
      ]
     },
     "execution_count": 13,
     "metadata": {},
     "output_type": "execute_result"
    }
   ],
   "source": [
    "np.matmul(A,B)"
   ]
  },
  {
   "cell_type": "code",
   "execution_count": 14,
   "metadata": {},
   "outputs": [
    {
     "data": {
      "text/plain": [
       "(6*x^3 + 3*x^2 + 6*x + 3, 6*x^3 + x^2 + 4*x + 2)"
      ]
     },
     "execution_count": 14,
     "metadata": {},
     "output_type": "execute_result"
    }
   ],
   "source": [
    "v = Rq.random_element()\n",
    "w = Rq.random_element()\n",
    "v, w"
   ]
  },
  {
   "cell_type": "code",
   "execution_count": 114,
   "metadata": {},
   "outputs": [
    {
     "data": {
      "text/plain": [
       "(array([0, 2, 4, 5]), array([5, 1, 0, 4]))"
      ]
     },
     "execution_count": 114,
     "metadata": {},
     "output_type": "execute_result"
    }
   ],
   "source": [
    "vv = np.array([1, 2, 0, 1])\n",
    "vw = np.array([6, 0, 4, 4])\n",
    "rlwe.polyadd(vv, vw), rlwe.polymul(vv, vw)"
   ]
  },
  {
   "cell_type": "code",
   "execution_count": 193,
   "metadata": {},
   "outputs": [
    {
     "name": "stdout",
     "output_type": "stream",
     "text": [
      "[array([[3, 0, 0, 1],\n",
      "       [0, 2, 0, 5]])]\n",
      "[[[3 0 0 1]\n",
      "  [0 2 0 5]]\n",
      "\n",
      " [[3 2 0 1]\n",
      "  [0 1 2 5]]]\n"
     ]
    },
    {
     "data": {
      "text/plain": [
       "array([[[3, 0, 0, 1],\n",
       "        [0, 2, 0, 5]],\n",
       "\n",
       "       [[3, 2, 0, 1],\n",
       "        [0, 1, 2, 5]]])"
      ]
     },
     "execution_count": 193,
     "metadata": {},
     "output_type": "execute_result"
    }
   ],
   "source": [
    "rlwe.polymatmul(np.array([[vv,vw], \n",
    "                 [rlwe.polyadd(vv, vw), rlwe.polymul(vv, vw)]]),\n",
    "                      np.array([[vv, vw],\n",
    "                       [vw, vv]]))"
   ]
  },
  {
   "cell_type": "code",
   "execution_count": 99,
   "metadata": {},
   "outputs": [
    {
     "name": "stdout",
     "output_type": "stream",
     "text": [
      "[x^3 + 2*x + 1, 4*x^3 + 4*x^2 + 6] [5*x^3 + 4*x^2 + 2*x, 4*x^3 + x + 5]\n"
     ]
    },
    {
     "data": {
      "text/plain": [
       "array([[x^3 + 3, x^3 + 2*x + 3],\n",
       "       [5*x^3 + 2*x, 5*x^3 + 2*x^2 + x]], dtype=object)"
      ]
     },
     "execution_count": 99,
     "metadata": {},
     "output_type": "execute_result"
    }
   ],
   "source": [
    "print([v, w], [v+w, v*w])\n",
    "np.matmul([[v, w], [v+w, v*w]], [[v, w],[w,v]])"
   ]
  },
  {
   "cell_type": "code",
   "execution_count": null,
   "metadata": {},
   "outputs": [],
   "source": []
  },
  {
   "cell_type": "code",
   "execution_count": 213,
   "metadata": {},
   "outputs": [],
   "source": [
    "\n",
    "from sage.stats.distributions.discrete_gaussian_polynomial import DiscreteGaussianDistributionPolynomialSampler"
   ]
  },
  {
   "cell_type": "code",
   "execution_count": 214,
   "metadata": {
    "scrolled": false
   },
   "outputs": [
    {
     "data": {
      "text/plain": [
       "RingLWE(8, 1031, Discrete Gaussian sampler for polynomials of degree < 4 with σ=2.952014 in each component, x^4 + 1, 'noise', 12)"
      ]
     },
     "execution_count": 214,
     "metadata": {},
     "output_type": "execute_result"
    }
   ],
   "source": []
  },
  {
   "cell_type": "code",
   "execution_count": 217,
   "metadata": {},
   "outputs": [
    {
     "data": {
      "text/plain": [
       "array([[[159, 423, 391, 799],\n",
       "        [821, 923, 689, 60]],\n",
       "\n",
       "       [[338, 91, 505, 540],\n",
       "        [426, 881, 279, 644]],\n",
       "\n",
       "       [[327, 294, 847, 307],\n",
       "        [929, 984, 365, 419]],\n",
       "\n",
       "       [[624, 220, 838, 872],\n",
       "        [437, 190, 897, 960]],\n",
       "\n",
       "       [[991, 330, 640, 821],\n",
       "        [308, 163, 972, 982]]], dtype=object)"
      ]
     },
     "execution_count": 217,
     "metadata": {},
     "output_type": "execute_result"
    }
   ],
   "source": []
  },
  {
   "cell_type": "code",
   "execution_count": null,
   "metadata": {},
   "outputs": [],
   "source": []
  },
  {
   "cell_type": "code",
   "execution_count": null,
   "metadata": {},
   "outputs": [],
   "source": []
  },
  {
   "cell_type": "code",
   "execution_count": 3,
   "metadata": {},
   "outputs": [],
   "source": [
    "from sage.stats.distributions.discrete_gaussian_polynomial import DiscreteGaussianDistributionPolynomialSampler"
   ]
  },
  {
   "cell_type": "code",
   "execution_count": 196,
   "metadata": {},
   "outputs": [],
   "source": [
    "n = 2\n",
    "q = 11\n",
    "P, x = PolynomialRing(ZZ, 'x').objgen()"
   ]
  },
  {
   "cell_type": "code",
   "execution_count": 197,
   "metadata": {},
   "outputs": [],
   "source": [
    "#Reduce a polynomial p in Z[X] to R = Z[X]/(X^n + 1)\n",
    "def R(p):\n",
    "    if len(p.variables()) == 0: return p #p is a constant\n",
    "    else: return p%(p.variables()[0]**n+1) if not isinstance(p, np.ndarray) else np.vectorize(R)(p)"
   ]
  },
  {
   "cell_type": "code",
   "execution_count": 198,
   "metadata": {},
   "outputs": [],
   "source": [
    "#Reduce a polynomial p in R or Z[X] to Rq = R/qR = Z_q[X]/(X^n + 1)\n",
    "def Rq(p):\n",
    "    return (R(p)).map_coefficients(lambda x: x%q if x%q <= (q-1)/2 else (x%q)-q) if not isinstance(p, np.ndarray) else np.vectorize(Rq)(p) "
   ]
  },
  {
   "cell_type": "code",
   "execution_count": 199,
   "metadata": {},
   "outputs": [],
   "source": [
    "a = P.random_element(degree = 2*n-1)"
   ]
  },
  {
   "cell_type": "code",
   "execution_count": 200,
   "metadata": {},
   "outputs": [],
   "source": [
    "def Rq_uniform_element():\n",
    "    return Rq(P([randint(0, q) for _ in range(n)]))\n",
    "\n",
    "def Rq_uniform(shape):\n",
    "    return np.array([Rq_uniform_element() for _ in range(prod(shape))]).reshape(shape)"
   ]
  },
  {
   "cell_type": "code",
   "execution_count": 201,
   "metadata": {},
   "outputs": [
    {
     "data": {
      "text/plain": [
       "(array([[-5*x + 1, 4*x],\n",
       "        [3*x + 2, -x]], dtype=object), array([[2*x - 5, 1],\n",
       "        [0, x - 2]], dtype=object), array([[5*x + 5, -2*x - 3],\n",
       "        [-5, 5*x + 3]], dtype=object))"
      ]
     },
     "execution_count": 201,
     "metadata": {},
     "output_type": "execute_result"
    }
   ],
   "source": [
    "A = Rq_uniform((2,2))\n",
    "B = Rq_uniform((2,2))\n",
    "A, B, Rq(A@B)"
   ]
  },
  {
   "cell_type": "code",
   "execution_count": null,
   "metadata": {},
   "outputs": [],
   "source": []
  },
  {
   "cell_type": "code",
   "execution_count": 202,
   "metadata": {},
   "outputs": [],
   "source": [
    "D = DiscreteGaussianDistributionPolynomialSampler(P, n, 500)"
   ]
  },
  {
   "cell_type": "code",
   "execution_count": 203,
   "metadata": {},
   "outputs": [],
   "source": [
    "def norm2(A):\n",
    "    return A.norm(2) if not isinstance(A, np.ndarray) else  np.linalg.norm(np.array([norm2(a) for a in A]))"
   ]
  },
  {
   "cell_type": "code",
   "execution_count": 207,
   "metadata": {},
   "outputs": [],
   "source": [
    "a = Rq_uniform((2,))\n",
    "b = Rq_uniform((2,))"
   ]
  },
  {
   "cell_type": "code",
   "execution_count": 208,
   "metadata": {},
   "outputs": [
    {
     "data": {
      "text/plain": [
       "(array([4*x - 3, -2*x + 2], dtype=object),\n",
       " array([-3*x - 4, -2*x + 2], dtype=object),\n",
       " -8*x^2 - 15*x + 16,\n",
       " -4*x + 2)"
      ]
     },
     "execution_count": 208,
     "metadata": {},
     "output_type": "execute_result"
    }
   ],
   "source": [
    "a,b, a@b, Rq(a@b)"
   ]
  },
  {
   "cell_type": "code",
   "execution_count": null,
   "metadata": {},
   "outputs": [],
   "source": []
  },
  {
   "cell_type": "code",
   "execution_count": null,
   "metadata": {},
   "outputs": [],
   "source": []
  },
  {
   "cell_type": "code",
   "execution_count": null,
   "metadata": {},
   "outputs": [],
   "source": []
  },
  {
   "cell_type": "code",
   "execution_count": null,
   "metadata": {},
   "outputs": [],
   "source": []
  }
 ],
 "metadata": {
  "kernelspec": {
   "display_name": "Python 3",
   "language": "python",
   "name": "python3"
  },
  "language_info": {
   "codemirror_mode": {
    "name": "ipython",
    "version": 3
   },
   "file_extension": ".py",
   "mimetype": "text/x-python",
   "name": "python",
   "nbconvert_exporter": "python",
   "pygments_lexer": "ipython3",
   "version": "3.7.3"
  }
 },
 "nbformat": 4,
 "nbformat_minor": 4
}

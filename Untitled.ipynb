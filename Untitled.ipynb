{
 "cells": [
  {
   "cell_type": "code",
   "execution_count": 3,
   "metadata": {},
   "outputs": [],
   "source": [
    "import math\n",
    "import sympy as sp\n",
    "import numpy as np\n",
    "from numpy.polynomial import polynomial as p\n",
    "import matplotlib.pyplot as plt\n",
    "from sage.all import *\n",
    "from sage.stats.distributions.discrete_gaussian_integer import DiscreteGaussianDistributionIntegerSampler\n",
    "from sage.stats.distributions.discrete_gaussian_polynomial import DiscreteGaussianDistributionPolynomialSampler "
   ]
  },
  {
   "cell_type": "code",
   "execution_count": null,
   "metadata": {},
   "outputs": [],
   "source": []
  },
  {
   "cell_type": "markdown",
   "metadata": {},
   "source": [
    "### Class thar runs and controls the protocol flow"
   ]
  },
  {
   "cell_type": "code",
   "execution_count": 4,
   "metadata": {},
   "outputs": [],
   "source": [
    "class ProductArgument(object):\n",
    "    lamb = None\n",
    "    ck = None\n",
    "    calB = None\n",
    "    Ai = None\n",
    "    Bi = None\n",
    "    Ci = None\n",
    "    k = None\n",
    "    m = None\n",
    "    n = None\n",
    "    N = None\n",
    "    p = None\n",
    "    q = None\n",
    "    np = None\n",
    "    \n",
    "    \n",
    "    def __init__(self, lamb, p, Ai, Bi, Ci, m, k, n, ck):\n",
    "        self.lamb = lamb\n",
    "        self.p = p\n",
    "        self.Ai = Ai\n",
    "        self.Bi = Bi\n",
    "        self.Ci = Ci\n",
    "        self.m = m\n",
    "        self.k = k\n",
    "        self.n = n\n",
    "        self.ck = ck"
   ]
  },
  {
   "cell_type": "code",
   "execution_count": 5,
   "metadata": {},
   "outputs": [],
   "source": [
    "class ProductArgumentProver(ProductArgument):\n",
    "    lamb = None\n",
    "    ck = None\n",
    "    calB = None\n",
    "    Ai = None\n",
    "    Bi = None\n",
    "    Ci = None\n",
    "    k = None\n",
    "    m = None\n",
    "    n = None\n",
    "    N = None\n",
    "    p = None\n",
    "    q = None\n",
    "    np = None\n",
    "    \n",
    "    def __init__(self, lamb, p, Ai, Bi, Ci, m, k, n, ck):\n",
    "        super().__init__(lamb, p, Ai, Bi, Ci, m, k, n, ck)\n",
    "    \n",
    "    \n",
    "    \n",
    "    "
   ]
  },
  {
   "cell_type": "code",
   "execution_count": null,
   "metadata": {},
   "outputs": [],
   "source": [
    "class ProductArgumentVerifier(ProductArgument):\n",
    "    lamb = None\n",
    "    ck = None\n",
    "    calB = None\n",
    "    k = None\n",
    "    m = None\n",
    "    n = None\n",
    "    N = None\n",
    "    p = None\n",
    "    q = None\n",
    "    np = None\n",
    "    "
   ]
  },
  {
   "cell_type": "code",
   "execution_count": 11,
   "metadata": {},
   "outputs": [
    {
     "name": "stdout",
     "output_type": "stream",
     "text": [
      "[[[ 55  42 122]\n",
      "  [109  93  87]\n",
      "  [ 86  47  11]]]\n",
      "[[[ 8 68 25]\n",
      "  [47 98 39]\n",
      "  [23 46 27]]]\n",
      "[[[59 62  2]\n",
      "  [43 97 91]\n",
      "  [73  3 43]]]\n"
     ]
    }
   ],
   "source": [
    "def productArgument_test():\n",
    "    \n",
    "    lamb = 64\n",
    "    p = 127\n",
    "    N = 1000\n",
    "    n = 3\n",
    "    k = 3\n",
    "    m = 1\n",
    "    \n",
    "    Ai = np.random.randint(0, p, size = [m, k, n])\n",
    "    Bi = np.random.randint(0, p, size = [m, k, n])\n",
    "    Ci = Ai * Bi % p #Hadamard product\n",
    "    \n",
    "    print(Ai)\n",
    "    print(Bi)\n",
    "    print(Ci)\n",
    "    \n",
    "    \n",
    "productArgument_test()"
   ]
  },
  {
   "cell_type": "code",
   "execution_count": 14,
   "metadata": {},
   "outputs": [
    {
     "data": {
      "text/plain": [
       "59"
      ]
     },
     "execution_count": 14,
     "metadata": {},
     "output_type": "execute_result"
    }
   ],
   "source": []
  },
  {
   "cell_type": "code",
   "execution_count": null,
   "metadata": {},
   "outputs": [],
   "source": []
  }
 ],
 "metadata": {
  "kernelspec": {
   "display_name": "Python 3",
   "language": "python",
   "name": "python3"
  },
  "language_info": {
   "codemirror_mode": {
    "name": "ipython",
    "version": 3
   },
   "file_extension": ".py",
   "mimetype": "text/x-python",
   "name": "python",
   "nbconvert_exporter": "python",
   "pygments_lexer": "ipython3",
   "version": "3.7.3"
  }
 },
 "nbformat": 4,
 "nbformat_minor": 2
}

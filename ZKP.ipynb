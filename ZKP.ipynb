{
 "cells": [
  {
   "cell_type": "code",
   "execution_count": 1,
   "metadata": {},
   "outputs": [],
   "source": [
    "import time\n",
    "import math\n",
    "import sympy as sp\n",
    "import numpy as np\n",
    "from numpy.polynomial import polynomial as p\n",
    "import matplotlib.pyplot as plt\n",
    "from sage.all import *"
   ]
  },
  {
   "cell_type": "code",
   "execution_count": 2,
   "metadata": {},
   "outputs": [],
   "source": [
    "from sage.stats.distributions.discrete_gaussian_integer import DiscreteGaussianDistributionIntegerSampler\n",
    "from sage.stats.distributions.discrete_gaussian_polynomial import DiscreteGaussianDistributionPolynomialSampler "
   ]
  },
  {
   "cell_type": "code",
   "execution_count": 3,
   "metadata": {},
   "outputs": [],
   "source": [
    "#Rejection sampling algorithm \n",
    "#If parameters chosen as BBC+18, output is 1 with probability 1/rho\n",
    "\n",
    "def Rej(Z, B, sigma, rho):\n",
    "    u = np.random.random()\n",
    "    if u > 1/rho * np.exp((-2*Z.flatten().dot(B.flatten()) + np.linalg.norm(B.flatten())**2)/(2*sigma**2)):\n",
    "        return 0\n",
    "    else:\n",
    "        return 1"
   ]
  },
  {
   "cell_type": "code",
   "execution_count": 4,
   "metadata": {},
   "outputs": [],
   "source": [
    "#Balance algorithm\n",
    "#Given a matrix x with coeffs in [0, q], returns the same matrix with coeffs in [-(q-1)/2, (q-1)/2]\n",
    "def balance(x, q):\n",
    "    return np.array([n if n <= (q-1)/2 else n-q for n in x.flatten()]).reshape(np.shape(x))"
   ]
  },
  {
   "cell_type": "code",
   "execution_count": 5,
   "metadata": {},
   "outputs": [],
   "source": [
    "class Gen:\n",
    "    \n",
    "    A = None\n",
    "    S = None\n",
    "    T = None\n",
    "    \n",
    "    def __init__(self, A, S, T):\n",
    "        self.A = A\n",
    "        self.S = S\n",
    "        self.T = T\n",
    "    "
   ]
  },
  {
   "cell_type": "code",
   "execution_count": 6,
   "metadata": {},
   "outputs": [],
   "source": [
    "class Prover:\n",
    "    \n",
    "    A = None\n",
    "    S = None\n",
    "    T = None\n",
    "    sigma = None\n",
    "    Y = None\n",
    "     \n",
    "    def __init__(self, A, S, T, sigma):\n",
    "        self.A = A\n",
    "        self.S = S\n",
    "        self.T = T\n",
    "        \n",
    "        self.Y = []\n",
    "        self.sigma = sigma\n",
    "    \n",
    "    def calculateW(self, n):\n",
    "        v = self.A.shape[1]\n",
    "        D = DiscreteGaussianDistributionIntegerSampler(self.sigma)\n",
    "        self.Y = np.array([D() for _ in range(v*n)]).reshape(v,n)\n",
    "        W = np.matmul(self.A, self.Y)\n",
    "        return W\n",
    "    \n",
    "    def calculateZ(self, C):\n",
    "        Z = np.matmul(self.S, C) + self.Y\n",
    "        return Z"
   ]
  },
  {
   "cell_type": "code",
   "execution_count": 13,
   "metadata": {},
   "outputs": [],
   "source": [
    "class Verifier:\n",
    "    \n",
    "    A = None\n",
    "    T = None\n",
    "    W = None\n",
    "    C = None\n",
    "    \n",
    "    def __init__(self, A, T):\n",
    "        self.A = A\n",
    "        self.T = T\n",
    "        self.W = []\n",
    "        self.C = []\n",
    "        \n",
    "    def calculateC(self, W):\n",
    "        self.W = W\n",
    "        n = W.shape[1]\n",
    "        l = self.T.shape[1]\n",
    "        self.C = np.random.randint(2, size=[l,n])\n",
    "        return self.C\n",
    "    \n",
    "    def verify(self, Z, B, q):\n",
    "        AZ = np.matmul(self.A, Z)\n",
    "        TC = np.matmul(self.T, self.C)\n",
    "        return np.array_equal(AZ%q, (TC + self.W)%q) and np.all(np.linalg.norm(Z, np.inf, axis=0) <= B)"
   ]
  },
  {
   "cell_type": "code",
   "execution_count": 14,
   "metadata": {},
   "outputs": [
    {
     "name": "stdout",
     "output_type": "stream",
     "text": [
      "s = 209783.1763932437\n",
      "sigma = 82618846.37746485\n",
      "B = 3694827134.452473\n",
      "[[ 590472370  405436150  581090750 ... 2124535677  490778377 1965814493]\n",
      " [ 996173083  686992701  191922186 ...  512213660 1422861685 1577948324]\n",
      " [ 277450348 1804373565  612587937 ... 1753962074  124938276 1856953445]\n",
      " ...\n",
      " [1105759460 1689009910  239959177 ... 1631689074  976340712 1963737039]\n",
      " [1463037424 1342851492  761065116 ...  208727993  285435440  904554265]\n",
      " [1356788574 1958822043  591373292 ...  903655417  272081985 1600892207]]\n",
      "[[2422 1511  197 ... 2881 4067 3495]\n",
      " [1590 2463 3689 ... 3001 1089 1953]\n",
      " [ 574 3728 2882 ... 3982  177 1078]\n",
      " ...\n",
      " [2013 2411   92 ...  742 3647  400]\n",
      " [3710  939 2088 ...  235 2448  640]\n",
      " [3726 2513 3481 ... 2749 1172 3110]]\n",
      "[[1513619872 1633896248 1036709624 ... 1046583796 1434289752 1490054068]\n",
      " [1154806012  494143351  407345585 ...  464998146 2024601915 1203965586]\n",
      " [ 687275192  173876041  859296676 ...   82925368  513122574 2133749186]\n",
      " ...\n",
      " [ 913635188 1559420380  777422513 ... 1823675747 1325656021 1903870634]\n",
      " [1016562270  741451955  980616724 ... 1126112587 1436599644 1356580560]\n",
      " [ 108719705  480100814  553480734 ... 1638694359  991857524 1494302742]]\n",
      "False\n",
      "Times aborted: 2\n",
      "Total execution time: 1.02325439453125 seconds\n"
     ]
    }
   ],
   "source": [
    "class ZKP_Protocol:\n",
    "    \n",
    "    lamb = None\n",
    "    \n",
    "    def __init__(self, lamb):\n",
    "        \n",
    "        self.lamb = lamb #Security parameter lambda\n",
    "        q = sp.nextprime(2**31) #Prime for base field Z_q\n",
    "        l = 10 #Number of equations\n",
    "        \n",
    "        \n",
    "        ############# Invent matrices A, S, T ###################\n",
    "        \n",
    "        r = 1000 #poly(lambda)\n",
    "        v = 1000 #poly(lambda)\n",
    "        n = self.lamb + 2\n",
    "        \n",
    "        A = np.random.randint(0, q, size = [r, v])\n",
    "        S = np.random.randint(0, 2**12, size = [v, l])\n",
    "        #S = np.vstack((np.ones((l,), dtype = int), np.zeros((v-1, l), dtype = int)))\n",
    "        T = np.matmul(A, S)%q\n",
    "\n",
    "        #########################################################\n",
    "        \n",
    "        s = np.linalg.norm(S, 2)%q\n",
    "        rho = 3\n",
    "        sigma = 12/np.log(rho)*s*np.sqrt(l*n)+2**-100\n",
    "        B = math.sqrt(2*v)*sigma\n",
    "\n",
    "        print(\"s = \" + str(s))\n",
    "        print(\"sigma = \" + str(sigma))\n",
    "        print(\"B = \" + str(B))\n",
    "        \n",
    "        \n",
    "        gen = Gen(A, S, T)\n",
    "        prover = Prover(gen.A, gen.S, gen.T, sigma)\n",
    "        verifier = Verifier(gen.A, gen.T)\n",
    "        \n",
    "        print(A)\n",
    "        print(S)\n",
    "        print(T)\n",
    "        \n",
    "        abort = True\n",
    "        num_aborts = 0\n",
    "        \n",
    "        #Protocol starts\n",
    "        \n",
    "        start_time = time.time()\n",
    "        \n",
    "        W = prover.calculateW(n)\n",
    "        \n",
    "        while abort:\n",
    "        \n",
    "            C = verifier.calculateC(W)\n",
    "        \n",
    "            Z = prover.calculateZ(C)\n",
    "        \n",
    "            #Rejection sampling\n",
    "        \n",
    "            abort = not Rej(Z, np.matmul(S,C), sigma, rho)\n",
    "            num_aborts += abort\n",
    "            \n",
    "            #Verification    \n",
    "            \n",
    "        bit = verifier.verify(Z, B, q)\n",
    "        \n",
    "        end_time = time.time()\n",
    "        \n",
    "        print(bit)\n",
    "        print(\"Times aborted: \" + str(num_aborts))\n",
    "        print(\"Total execution time: \" + str(end_time - start_time) + \" seconds\")\n",
    "        \n",
    "lamb = 128\n",
    "zkp = ZKP_Protocol(lamb)"
   ]
  },
  {
   "cell_type": "code",
   "execution_count": null,
   "metadata": {},
   "outputs": [],
   "source": []
  },
  {
   "cell_type": "code",
   "execution_count": 45,
   "metadata": {},
   "outputs": [
    {
     "name": "stdout",
     "output_type": "stream",
     "text": [
      "Should abort 33.333333333333336% of the time\n",
      "Aborted 33.46% of the time\n"
     ]
    }
   ],
   "source": [
    "def rejSamplingTest():\n",
    "    res = 0\n",
    "    r = 10\n",
    "    n = 10\n",
    "    rho = 3\n",
    "    times = 10000\n",
    "    print(\"Should abort \" + str(100/rho) + \"% of the time\")\n",
    "    for _ in range (times):\n",
    "        B = np.random.randint(0, 4099, size = [r,n])\n",
    "        sigma = 12/math.log(rho) * np.linalg.norm(B,2)\n",
    "        D = DiscreteGaussianDistributionIntegerSampler(sigma)\n",
    "        Y = np.array([D() for _ in range(r*n)]).reshape(r,n)\n",
    "        res += Rej(Y+B, B, sigma, rho)\n",
    "    print(\"Aborted \" + str(100*res/times) + \"% of the time\")\n",
    "    \n",
    "rejSamplingTest()"
   ]
  },
  {
   "cell_type": "code",
   "execution_count": null,
   "metadata": {},
   "outputs": [],
   "source": []
  },
  {
   "cell_type": "code",
   "execution_count": 25,
   "metadata": {},
   "outputs": [],
   "source": []
  },
  {
   "cell_type": "code",
   "execution_count": null,
   "metadata": {},
   "outputs": [],
   "source": []
  },
  {
   "cell_type": "code",
   "execution_count": null,
   "metadata": {},
   "outputs": [],
   "source": []
  },
  {
   "cell_type": "code",
   "execution_count": null,
   "metadata": {},
   "outputs": [],
   "source": []
  },
  {
   "cell_type": "code",
   "execution_count": null,
   "metadata": {},
   "outputs": [],
   "source": []
  },
  {
   "cell_type": "code",
   "execution_count": null,
   "metadata": {},
   "outputs": [],
   "source": []
  },
  {
   "cell_type": "code",
   "execution_count": null,
   "metadata": {},
   "outputs": [],
   "source": []
  },
  {
   "cell_type": "code",
   "execution_count": null,
   "metadata": {},
   "outputs": [],
   "source": []
  },
  {
   "cell_type": "code",
   "execution_count": null,
   "metadata": {},
   "outputs": [],
   "source": []
  },
  {
   "cell_type": "code",
   "execution_count": null,
   "metadata": {},
   "outputs": [],
   "source": []
  },
  {
   "cell_type": "code",
   "execution_count": null,
   "metadata": {},
   "outputs": [],
   "source": []
  },
  {
   "cell_type": "code",
   "execution_count": null,
   "metadata": {},
   "outputs": [],
   "source": []
  }
 ],
 "metadata": {
  "kernelspec": {
   "display_name": "Python 3",
   "language": "python",
   "name": "python3"
  },
  "language_info": {
   "codemirror_mode": {
    "name": "ipython",
    "version": 3
   },
   "file_extension": ".py",
   "mimetype": "text/x-python",
   "name": "python",
   "nbconvert_exporter": "python",
   "pygments_lexer": "ipython3",
   "version": "3.7.3"
  }
 },
 "nbformat": 4,
 "nbformat_minor": 4
}

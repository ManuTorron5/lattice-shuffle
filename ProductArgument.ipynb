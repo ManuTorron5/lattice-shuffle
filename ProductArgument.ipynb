{
 "cells": [
  {
   "cell_type": "code",
   "execution_count": 1,
   "metadata": {},
   "outputs": [],
   "source": [
    "import time\n",
    "import math\n",
    "import sympy as sp\n",
    "import numpy as np\n",
    "from numpy.polynomial import polynomial as p\n",
    "import matplotlib.pyplot as plt\n",
    "from sage.all import *\n",
    "from sage.stats.distributions.discrete_gaussian_integer import DiscreteGaussianDistributionIntegerSampler\n",
    "from sage.stats.distributions.discrete_gaussian_polynomial import DiscreteGaussianDistributionPolynomialSampler "
   ]
  },
  {
   "cell_type": "code",
   "execution_count": 2,
   "metadata": {},
   "outputs": [],
   "source": [
    "def gaussian_sample(sigma, shape):\n",
    "    D = DiscreteGaussianDistributionIntegerSampler(sigma)\n",
    "    return np.array([D() for _ in range(np.prod(shape))]).reshape(shape)"
   ]
  },
  {
   "cell_type": "code",
   "execution_count": null,
   "metadata": {},
   "outputs": [],
   "source": []
  },
  {
   "cell_type": "markdown",
   "metadata": {},
   "source": [
    "### Class thar runs and controls the protocol flow"
   ]
  },
  {
   "cell_type": "code",
   "execution_count": 3,
   "metadata": {},
   "outputs": [],
   "source": [
    "class ProductArgument(object):\n",
    "    \n",
    "    #Parameters: security level lambda, prime p and N triples ai, bi, ci \n",
    "    #such that ai*bi = ci (flatA = [a1, a2, ..., aN])\n",
    "    \n",
    "    lamb = None\n",
    "    p = None\n",
    "    flatA = None\n",
    "    flatB = None\n",
    "    flatC = None\n",
    "    \n",
    "    \n",
    "    def __init__(self, lamb, p, flatA, flatB, flatC):\n",
    "        self.lamb = lamb\n",
    "        self.p = p\n",
    "        self.flatA = flatA\n",
    "        self.flatB = flatB\n",
    "        self.flatC = flatC\n",
    "        \n",
    "    \n",
    "    def run(self):\n",
    "        assert self.flatA.size == self.flatB.size == self.flatC.size\n",
    "        N = self.flatA.size\n",
    "        \n",
    "        #Generates the commitment scheme for N values in Zp with security\n",
    "        #lambda. This defines n, k, m, q ... (?)\n",
    "        cs = CommitmentScheme(self.lamb, self.p, N)\n",
    "        ck = cs.gen()\n",
    "        \n",
    "        #TO-DO: Reshape A,B,C into m matrices kxn, according to cs\n",
    "        \n",
    "        #Create prover\n",
    "        prover = ProductArgumentProver(self.lamb, self.p, Ai, Bi, Ci, ck)\n",
    "        \n",
    "        #Create verifier\n",
    "        verifier = ProductArgumentVerifier()\n",
    "        \n",
    "        #Start protocol\n",
    "        start_time = time.time()\n",
    "        \n",
    "        prover.commit_witness()\n",
    "        \n",
    "        bfy = verifier.generate_challenge()\n",
    "        \n",
    "        prover.generate_polynomials(bfy)\n",
    "        \n",
    "    "
   ]
  },
  {
   "cell_type": "code",
   "execution_count": 4,
   "metadata": {},
   "outputs": [],
   "source": [
    "class ProductArgumentProver(object):\n",
    "    lamb = None\n",
    "    ck = None\n",
    "    Ai = None\n",
    "    Bi = None\n",
    "    Ci = None\n",
    "    k = None\n",
    "    m = None\n",
    "    n = None\n",
    "    N = None\n",
    "    p = None\n",
    "    q = None\n",
    "    np = None\n",
    "    sigma1 = None\n",
    "    sigma2 = None\n",
    "    sigma3 = None\n",
    "    sigma4 = None\n",
    "    \n",
    "    \n",
    "    def __init__(self, lamb, p, Ai, Bi, Ci, ck):\n",
    "        \n",
    "        assert Ai.shape == Bi.shape == Ci.shape\n",
    "        \n",
    "        self.Ai = Ai\n",
    "        self.Bi = Bi\n",
    "        self.Ci = Ci\n",
    "        self.m = Ai.shape[0]\n",
    "        self.k = Ai.shape[1]\n",
    "        self.n = Ai.shape[2]\n",
    "        \n",
    "        self.ck = ck\n",
    "        self.p = ck[0]\n",
    "        self.q = ck[1]\n",
    "        #self.np =  1 \n",
    "        \n",
    "        self.sigma1 = 48*math.sqrt(self.k*self.n)*self.k*self.m*self.p**2\n",
    "        self.sigma2 = 72*math.sqrt(2*self.k*self.n)*self.k*self.m*self.p\n",
    "        self.sigma3 = 24*math.sqrt(2*self.k*self.n)*self.k*self.p*(1+6*self.k*self.m*self.p)\n",
    "        self.sigma4 = 24*math.sqrt(2)*self.k**2*self.p*self.n*self.sigma2\n",
    "    \n",
    "    def commit_witness(self):\n",
    "        Aizeros = np.vstack((self.Ai, np.zeros_like(Ai)))\n",
    "        Bizeros = np.vstack((self.Bi, np.zeros_like(Bi)))\n",
    "        CiCpi = Aizeros * Bizeros % self.p\n",
    "        #This should be done in a suitable basis of GF(p^{2k}) (???)\n",
    "        \n",
    "        A0 = gaussian_sample(self.sigma1, (2*self.k, self.n))\n",
    "        Bmm1 = gaussian_sample(self.sigma1, (2*self.k, self.n))\n",
    "        \n",
    "        alphai = np.random.randint(0, self.p, [self.m, self.k, self.np])\n",
    "        betai = np.random.randint(0, self.p, [self.m, self.k, self.np])\n",
    "        gammai = np.random.randint(0, self.p, [self.m, 2*self.k, self.np])\n",
    "\n",
    "        alpha0 = gaussian_sample(self.sigma1, (2*self.k, self.np))\n",
    "        betamm1 = gaussian_sample(self.sigma1, (2*self.k, self.np))\n",
    "        \n",
    "        bfAi = com_msg(Aizeros, np.vstack((alphai, np.zeros_like(alphai))))\n",
    "        bfBi = com_msg(Bizeros, np.vstack((betai, np.zeros_like(betai))))\n",
    "        bfCi = com_msg(CiCpi, gammai)\n",
    "        \n",
    "        bfA0 = com_msg(A0, alpha0)\n",
    "        bfBmm1 = com_msg(Bmm1, betamm1)\n",
    "        \n",
    "        return bfAi, bfBi, bfCi, bfA0, bfBmm1\n",
    "        \n",
    "        \n",
    "    def compute_polynomials(self, bfy):\n",
    "        AX = 1\n",
    "        BX = 1\n",
    "        C = 1"
   ]
  },
  {
   "cell_type": "code",
   "execution_count": 5,
   "metadata": {},
   "outputs": [],
   "source": [
    "class ProductArgumentVerifier(object):\n",
    "    lamb = None\n",
    "    ck = None\n",
    "    calB = None\n",
    "    k = None\n",
    "    m = None\n",
    "    n = None\n",
    "    N = None\n",
    "    p = None\n",
    "    q = None\n",
    "    np = None\n",
    "    \n",
    "    def __init__(self, lamb, p, m, k, n, ck):\n",
    "        \n",
    "        self.sigma1 = 48*math.sqrt(self.k*self.n)*self.k*self.m*self.p**2\n",
    "        self.sigma2 = 72*math.sqrt(2*self.k*self.n)*self.k*self.m*self.p\n",
    "        self.sigma3 = 24*math.sqrt(2*self.k*self.n)*self.k*self.p*(1+6*self.k*self.m*self.p)\n",
    "        self.sigma4 = 24*math.sqrt(2)*self.k**2*self.p*self.n*self.sigma2\n",
    "    \n",
    "    \n",
    "    # Generate challenges bf y, bf x and bf z \n",
    "    def generate_challenge(self):\n",
    "        c = np.random.randint(0, self.p, 2*self.k)\n",
    "        return c\n",
    "    \n",
    "    "
   ]
  },
  {
   "cell_type": "code",
   "execution_count": 6,
   "metadata": {},
   "outputs": [],
   "source": [
    "def productArgument_test():\n",
    "    \n",
    "    lamb = 64\n",
    "    p = 5\n",
    "    N = 20\n",
    "    n = 2\n",
    "    k = 2\n",
    "    m = 1\n",
    "    \n",
    "    flatA = np.random.randint(0, p, size = N)\n",
    "    flatB = np.random.randint(0, p, size = N)\n",
    "    flatC = flatA * flatB % p #Hadamard product\n",
    "    \n",
    "    print(flatA)\n",
    "    print(flatB)\n",
    "    print(flatC)\n",
    "    \n",
    "    argument = ProductArgument(lamb, p, flatA, flatB, flatC)\n",
    "    argument.run()\n",
    "    \n",
    "#productArgument_test()"
   ]
  },
  {
   "cell_type": "code",
   "execution_count": 7,
   "metadata": {},
   "outputs": [],
   "source": [
    "p = 7\n",
    "n = 2\n",
    "k = 2\n",
    "m = 2\n",
    "    \n",
    "Ai = np.random.randint(0, p, size = [m, k, n])"
   ]
  },
  {
   "cell_type": "code",
   "execution_count": null,
   "metadata": {},
   "outputs": [],
   "source": []
  },
  {
   "cell_type": "code",
   "execution_count": 8,
   "metadata": {},
   "outputs": [
    {
     "data": {
      "text/plain": [
       "(array([[2, 2, 3, 3, 1, 2, 4, 4, 4, 4],\n",
       "        [1, 3, 1, 2, 3, 1, 1, 3, 2, 2],\n",
       "        [2, 1, 4, 2, 4, 4, 3, 1, 2, 4],\n",
       "        [1, 4, 3, 1, 4, 4, 4, 3, 1, 4],\n",
       "        [4, 1, 1, 2, 2, 2, 2, 1, 4, 4]]),\n",
       " array([2, 2, 2, 3, 2, 1, 1, 1, 3, 1]),\n",
       " array([51, 35, 46, 45, 43]))"
      ]
     },
     "execution_count": 8,
     "metadata": {},
     "output_type": "execute_result"
    }
   ],
   "source": [
    "A = np.random.randint(1, 5, [5,10])\n",
    "x = np.random.randint(1, 5, 10)\n",
    "A, x, A@x"
   ]
  },
  {
   "cell_type": "code",
   "execution_count": 11,
   "metadata": {},
   "outputs": [
    {
     "data": {
      "text/plain": [
       "array([4, 4, 4, 9, 4, 1, 1, 1, 9, 1])"
      ]
     },
     "execution_count": 11,
     "metadata": {},
     "output_type": "execute_result"
    }
   ],
   "source": []
  },
  {
   "cell_type": "code",
   "execution_count": null,
   "metadata": {},
   "outputs": [],
   "source": []
  }
 ],
 "metadata": {
  "kernelspec": {
   "display_name": "Python 3",
   "language": "python",
   "name": "python3"
  },
  "language_info": {
   "codemirror_mode": {
    "name": "ipython",
    "version": 3
   },
   "file_extension": ".py",
   "mimetype": "text/x-python",
   "name": "python",
   "nbconvert_exporter": "python",
   "pygments_lexer": "ipython3",
   "version": "3.7.3"
  }
 },
 "nbformat": 4,
 "nbformat_minor": 2
}
